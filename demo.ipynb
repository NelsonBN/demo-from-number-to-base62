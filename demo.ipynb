{
 "cells": [
  {
   "cell_type": "markdown",
   "metadata": {},
   "source": [
    "# Encoding number to base 62"
   ]
  },
  {
   "cell_type": "code",
   "execution_count": 5,
   "metadata": {},
   "outputs": [
    {
     "name": "stdout",
     "output_type": "stream",
     "text": [
      "0\n",
      "a\n",
      "j3nO\n",
      "8m0Kx\n"
     ]
    }
   ],
   "source": [
    "chars = \"0123456789abcdefghijklmnopqrstuvwxyzABCDEFGHIJKLMNOPQRSTUVWXYZ\"\n",
    "\n",
    "def number_to_base62(num):\n",
    "    if num == 0:\n",
    "        return chars[0]\n",
    "\n",
    "    base62_encoded = \"\"\n",
    "    while num > 0:\n",
    "        remainder = num % 62\n",
    "        base62_encoded = chars[remainder] + base62_encoded\n",
    "        num = num // 62\n",
    "\n",
    "    return base62_encoded\n",
    "\n",
    "result1 = number_to_base62(0)\n",
    "result2 = number_to_base62(10)\n",
    "result3 = number_to_base62(4541240)\n",
    "result4 = number_to_base62(123456789)\n",
    "\n",
    "print(result1)\n",
    "print(result2)\n",
    "print(result3)\n",
    "print(result4)"
   ]
  },
  {
   "cell_type": "markdown",
   "metadata": {},
   "source": [
    "# Decoding base 62 to number"
   ]
  },
  {
   "cell_type": "code",
   "execution_count": 6,
   "metadata": {},
   "outputs": [
    {
     "name": "stdout",
     "output_type": "stream",
     "text": [
      "0\n",
      "10\n",
      "4541240\n",
      "123456789\n"
     ]
    }
   ],
   "source": [
    "def base62_to_number(base62_str):\n",
    "\n",
    "    num = 0\n",
    "\n",
    "    for char in base62_str:\n",
    "        ascii_val = ord(char)\n",
    "        if 48 <= ascii_val <= 57:\n",
    "            num = num * 62 + ascii_val - 48\n",
    "        elif 97 <= ascii_val <= 122:\n",
    "            num = num * 62 + ascii_val - 87\n",
    "        else:\n",
    "            num = num * 62 + ascii_val - 29\n",
    "\n",
    "    return num\n",
    "\n",
    "print(base62_to_number(result1))\n",
    "print(base62_to_number(result2))\n",
    "print(base62_to_number(result3))\n",
    "print(base62_to_number(result4))\n"
   ]
  }
 ],
 "metadata": {
  "kernelspec": {
   "display_name": "Python 3",
   "language": "python",
   "name": "python3"
  },
  "language_info": {
   "codemirror_mode": {
    "name": "ipython",
    "version": 3
   },
   "file_extension": ".py",
   "mimetype": "text/x-python",
   "name": "python",
   "nbconvert_exporter": "python",
   "pygments_lexer": "ipython3",
   "version": "3.12.2"
  }
 },
 "nbformat": 4,
 "nbformat_minor": 2
}
