{
 "cells": [
  {
   "cell_type": "markdown",
   "metadata": {},
   "source": [
    "# Encoding number to Base 62"
   ]
  },
  {
   "cell_type": "code",
   "execution_count": 49,
   "metadata": {},
   "outputs": [
    {
     "name": "stdout",
     "output_type": "stream",
     "text": [
      "0\n",
      "a\n",
      "j3nO\n",
      "8m0Kx\n"
     ]
    }
   ],
   "source": [
    "chars = \"0123456789abcdefghijklmnopqrstuvwxyzABCDEFGHIJKLMNOPQRSTUVWXYZ\"\n",
    "\n",
    "def int_to_base62(num):\n",
    "    if num == 0:\n",
    "        return chars[0]\n",
    "\n",
    "    base62_encoded = \"\"\n",
    "    while num > 0:\n",
    "        remainder = num % 62\n",
    "        base62_encoded = chars[remainder] + base62_encoded\n",
    "        num = num // 62\n",
    "\n",
    "    return base62_encoded\n",
    "\n",
    "result1 = int_to_base62(0)\n",
    "result2 = int_to_base62(10)\n",
    "result3 = int_to_base62(4541240)\n",
    "result4 = int_to_base62(123456789)\n",
    "\n",
    "print(result1)\n",
    "print(result2)\n",
    "print(result3)\n",
    "print(result4)"
   ]
  },
  {
   "cell_type": "code",
   "execution_count": 1,
   "metadata": {},
   "outputs": [
    {
     "ename": "NameError",
     "evalue": "name 'result1' is not defined",
     "output_type": "error",
     "traceback": [
      "\u001b[1;31m---------------------------------------------------------------------------\u001b[0m",
      "\u001b[1;31mNameError\u001b[0m                                 Traceback (most recent call last)",
      "Cell \u001b[1;32mIn[1], line 16\u001b[0m\n\u001b[0;32m     12\u001b[0m             num \u001b[38;5;241m=\u001b[39m num \u001b[38;5;241m*\u001b[39m \u001b[38;5;241m62\u001b[39m \u001b[38;5;241m+\u001b[39m ascii_val \u001b[38;5;241m-\u001b[39m \u001b[38;5;241m29\u001b[39m\n\u001b[0;32m     14\u001b[0m     \u001b[38;5;28;01mreturn\u001b[39;00m num\n\u001b[1;32m---> 16\u001b[0m \u001b[38;5;28mprint\u001b[39m(base62_to_int(\u001b[43mresult1\u001b[49m))\n\u001b[0;32m     17\u001b[0m \u001b[38;5;28mprint\u001b[39m(base62_to_int(result2))\n\u001b[0;32m     18\u001b[0m \u001b[38;5;28mprint\u001b[39m(base62_to_int(result3))\n",
      "\u001b[1;31mNameError\u001b[0m: name 'result1' is not defined"
     ]
    }
   ],
   "source": [
    "def base62_to_int(base62_str):\n",
    "\n",
    "    num = 0\n",
    "\n",
    "    for char in base62_str:\n",
    "        ascii_val = ord(char)\n",
    "        if 48 <= ascii_val <= 57:\n",
    "            num = num * 62 + ascii_val - 48\n",
    "        elif 97 <= ascii_val <= 122:\n",
    "            num = num * 62 + ascii_val - 87\n",
    "        else:\n",
    "            num = num * 62 + ascii_val - 29\n",
    "\n",
    "    return num\n",
    "\n",
    "print(base62_to_int(result1))\n",
    "print(base62_to_int(result2))\n",
    "print(base62_to_int(result3))\n",
    "print(base62_to_int(result4))\n"
   ]
  }
 ],
 "metadata": {
  "kernelspec": {
   "display_name": "Python 3",
   "language": "python",
   "name": "python3"
  },
  "language_info": {
   "codemirror_mode": {
    "name": "ipython",
    "version": 3
   },
   "file_extension": ".py",
   "mimetype": "text/x-python",
   "name": "python",
   "nbconvert_exporter": "python",
   "pygments_lexer": "ipython3",
   "version": "3.12.2"
  }
 },
 "nbformat": 4,
 "nbformat_minor": 2
}
